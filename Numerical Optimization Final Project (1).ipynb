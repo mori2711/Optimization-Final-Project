{
 "cells": [
  {
   "cell_type": "code",
   "execution_count": 1,
   "id": "ca6c18c4",
   "metadata": {},
   "outputs": [],
   "source": [
    "import numpy as np\n",
    "from keras.datasets import mnist\n",
    "from keras.utils import np_utils\n",
    "from matplotlib import pyplot"
   ]
  },
  {
   "cell_type": "markdown",
   "id": "3a85af88",
   "metadata": {},
   "source": [
    "## NN"
   ]
  },
  {
   "cell_type": "code",
   "execution_count": 28,
   "id": "b8294eb3",
   "metadata": {},
   "outputs": [],
   "source": [
    "class Network:\n",
    "    def __init__(self):\n",
    "        self.layers = []\n",
    "        self.loss = None\n",
    "        self.loss_prime = None\n",
    "\n",
    "    # add layer to network\n",
    "    def add(self, layer):\n",
    "        self.layers.append(layer)\n",
    "\n",
    "    # set loss to use\n",
    "    def use(self, loss, loss_prime):\n",
    "        self.loss = loss\n",
    "        self.loss_prime = loss_prime\n",
    "\n",
    "    # predict output for given input\n",
    "    def predict(self, input_data):\n",
    "        # sample dimension first\n",
    "        samples = len(input_data)\n",
    "        result = []\n",
    "\n",
    "        # run network over all samples\n",
    "        for i in range(samples):\n",
    "            # forward propagation\n",
    "            output = input_data[i]\n",
    "            for layer in self.layers:\n",
    "                output = layer.forward_propagation(output)\n",
    "            result.append(output)\n",
    "\n",
    "        return result\n",
    "\n",
    "    # train the network\n",
    "    def fit(self, x_train, y_train, epochs, learning_rate):\n",
    "        # sample dimension first\n",
    "        samples = len(x_train)\n",
    "\n",
    "        # training loop\n",
    "        for i in range(epochs):\n",
    "            err = 0\n",
    "            for j in range(samples):\n",
    "                # forward propagation\n",
    "                output = x_train[j]\n",
    "                for layer in self.layers:\n",
    "                    output = layer.forward_propagation(output)\n",
    "\n",
    "                # compute loss (for display purpose only)\n",
    "                err += self.loss(y_train[j], output)\n",
    "\n",
    "                # backward propagation\n",
    "                error = self.loss_prime(y_train[j], output)\n",
    "                for layer in reversed(self.layers):\n",
    "                    error = layer.backward_propagation(error, learning_rate)\n",
    "\n",
    "            # calculate average error on all samples\n",
    "            err /= samples\n",
    "            print('epoch %d/%d   error=%f' % (i+1, epochs, err))\n"
   ]
  },
  {
   "cell_type": "markdown",
   "id": "b082a4a2",
   "metadata": {},
   "source": [
    "## Activation Function (Sigmoid) and Loss Function"
   ]
  },
  {
   "cell_type": "code",
   "execution_count": 29,
   "id": "f69adc70",
   "metadata": {},
   "outputs": [],
   "source": [
    "# activation function and its derivative\n",
    "def sigmoid(x):\n",
    "      return 1 / (1 + np.exp(-x))\n",
    "\n",
    "def sigmoid_prime(x):\n",
    "    return sigmoid(x)*(1-sigmoid(x))\n",
    "\n",
    "# loss function and its derivative\n",
    "def mse(y_true, y_pred):\n",
    "    return np.mean(np.power(y_true-y_pred, 2))\n",
    "\n",
    "def mse_prime(y_true, y_pred):\n",
    "    return 2*(y_pred-y_true)/y_true.size\n"
   ]
  },
  {
   "cell_type": "markdown",
   "id": "582ee070",
   "metadata": {},
   "source": [
    "## Layer"
   ]
  },
  {
   "cell_type": "code",
   "execution_count": 30,
   "id": "e7cae77e",
   "metadata": {},
   "outputs": [],
   "source": [
    "# Base class\n",
    "class Layer:\n",
    "    def __init__(self):\n",
    "        self.input = None\n",
    "        self.output = None\n",
    "\n",
    "    # computes the output Y of a layer for a given input X\n",
    "    def forward_propagation(self, input):\n",
    "        raise NotImplementedError\n",
    "\n",
    "    # computes dE/dX for a given dE/dY (and update parameters if any)\n",
    "    def backward_propagation(self, output_error, learning_rate):\n",
    "        raise NotImplementedError\n"
   ]
  },
  {
   "cell_type": "markdown",
   "id": "4db1e5c9",
   "metadata": {},
   "source": [
    "## Activation Layer"
   ]
  },
  {
   "cell_type": "code",
   "execution_count": 31,
   "id": "32fec37a",
   "metadata": {},
   "outputs": [],
   "source": [
    "class ActivationLayer(Layer):\n",
    "    def __init__(self, activation, activation_prime):\n",
    "        self.activation = activation\n",
    "        self.activation_prime = activation_prime\n",
    "\n",
    "    # returns the activated input\n",
    "    def forward_propagation(self, input_data):\n",
    "        self.input = input_data\n",
    "        self.output = self.activation(self.input)\n",
    "        return self.output\n",
    "\n",
    "    # Returns input_error=dE/dX for a given output_error=dE/dY.\n",
    "    # learning_rate is not used because there is no \"learnable\" parameters.\n",
    "    def backward_propagation(self, output_error, learning_rate):\n",
    "        return self.activation_prime(self.input) * output_error\n"
   ]
  },
  {
   "cell_type": "markdown",
   "id": "2dda439b",
   "metadata": {},
   "source": [
    "## Fully Connected Layer"
   ]
  },
  {
   "cell_type": "code",
   "execution_count": 32,
   "id": "d5ad103f",
   "metadata": {},
   "outputs": [],
   "source": [
    "# inherit from base class Layer\n",
    "class FCLayer(Layer):\n",
    "    # input_size = number of input neurons\n",
    "    # output_size = number of output neurons\n",
    "    def __init__(self, input_size, output_size):\n",
    "        self.weights = np.random.rand(input_size, output_size) - 0.5\n",
    "        self.bias = np.random.rand(1, output_size) - 0.5\n",
    "\n",
    "    # returns output for a given input\n",
    "    def forward_propagation(self, input_data):\n",
    "        self.input = input_data\n",
    "        self.output = np.dot(self.input, self.weights) + self.bias\n",
    "        return self.output\n",
    "\n",
    "    # computes dE/dW, dE/dB for a given output_error=dE/dY. Returns input_error=dE/dX.\n",
    "    def backward_propagation(self, output_error, learning_rate):\n",
    "        input_error = np.dot(output_error, self.weights.T)\n",
    "        weights_error = np.dot(self.input.T, output_error)\n",
    "        # dBias = output_error\n",
    "\n",
    "        # update parameters\n",
    "        self.weights -= learning_rate * weights_error\n",
    "        self.bias -= learning_rate * output_error\n",
    "        return input_error"
   ]
  },
  {
   "cell_type": "markdown",
   "id": "35a83b9a",
   "metadata": {},
   "source": [
    "## Create datasets using MNIST"
   ]
  },
  {
   "cell_type": "code",
   "execution_count": 33,
   "id": "217ca89c",
   "metadata": {},
   "outputs": [],
   "source": [
    "(x_train, y_train), (x_test, y_test) = mnist.load_data()\n",
    "\n",
    "x_train = x_train.reshape(x_train.shape[0], 1, 28*28)\n",
    "x_train = x_train.astype('float32')\n",
    "x_train /= 255\n",
    "# encode output which is a number in range [0,9] into a vector of size 10\n",
    "# e.g. number 3 will become [0, 0, 0, 1, 0, 0, 0, 0, 0, 0]\n",
    "y_train = np_utils.to_categorical(y_train)\n",
    "# same for test data : 10000 samples\n",
    "x_test_n = x_test.reshape(x_test.shape[0], 1, 28*28)\n",
    "x_test_n = x_test_n.astype('float32')\n",
    "x_test_n /= 255\n",
    "y_test = np_utils.to_categorical(y_test)"
   ]
  },
  {
   "cell_type": "markdown",
   "id": "60363548",
   "metadata": {},
   "source": [
    "# Our NN in Action!"
   ]
  },
  {
   "cell_type": "code",
   "execution_count": 34,
   "id": "eb96ec15",
   "metadata": {},
   "outputs": [
    {
     "name": "stdout",
     "output_type": "stream",
     "text": [
      "epoch 1/40   error=0.095763\n",
      "epoch 2/40   error=0.085761\n",
      "epoch 3/40   error=0.081693\n",
      "epoch 4/40   error=0.076880\n",
      "epoch 5/40   error=0.071894\n",
      "epoch 6/40   error=0.066877\n",
      "epoch 7/40   error=0.061804\n",
      "epoch 8/40   error=0.056853\n",
      "epoch 9/40   error=0.052305\n",
      "epoch 10/40   error=0.048295\n",
      "epoch 11/40   error=0.044807\n",
      "epoch 12/40   error=0.041772\n",
      "epoch 13/40   error=0.039121\n",
      "epoch 14/40   error=0.036792\n",
      "epoch 15/40   error=0.034732\n",
      "epoch 16/40   error=0.032895\n",
      "epoch 17/40   error=0.031243\n",
      "epoch 18/40   error=0.029747\n",
      "epoch 19/40   error=0.028383\n",
      "epoch 20/40   error=0.027134\n",
      "epoch 21/40   error=0.025985\n",
      "epoch 22/40   error=0.024923\n",
      "epoch 23/40   error=0.023938\n",
      "epoch 24/40   error=0.023023\n",
      "epoch 25/40   error=0.022170\n",
      "epoch 26/40   error=0.021372\n",
      "epoch 27/40   error=0.020623\n",
      "epoch 28/40   error=0.019920\n",
      "epoch 29/40   error=0.019257\n",
      "epoch 30/40   error=0.018631\n",
      "epoch 31/40   error=0.018038\n",
      "epoch 32/40   error=0.017475\n",
      "epoch 33/40   error=0.016939\n",
      "epoch 34/40   error=0.016429\n",
      "epoch 35/40   error=0.015942\n",
      "epoch 36/40   error=0.015477\n",
      "epoch 37/40   error=0.015031\n",
      "epoch 38/40   error=0.014604\n",
      "epoch 39/40   error=0.014194\n",
      "epoch 40/40   error=0.013801\n"
     ]
    }
   ],
   "source": [
    "net = Network()\n",
    "net.add(FCLayer(28*28, 100))                # input_shape=(1, 28*28)    ;   output_shape=(1, 100)\n",
    "net.add(ActivationLayer(sigmoid, sigmoid_prime))\n",
    "net.add(FCLayer(100, 50))                   # input_shape=(1, 100)      ;   output_shape=(1, 50)\n",
    "net.add(ActivationLayer(sigmoid, sigmoid_prime))\n",
    "net.add(FCLayer(50, 10))                    # input_shape=(1, 50)       ;   output_shape=(1, 10)\n",
    "net.add(ActivationLayer(sigmoid, sigmoid_prime))\n",
    "\n",
    "net.use(mse, mse_prime)\n",
    "net.fit(x_train[0:1000], y_train[0:1000], epochs=40, learning_rate=0.1)\n",
    "\n",
    "# test\n",
    "out = net.predict(x_test_n[0:1000])\n",
    "# print(\"\\n\")\n",
    "# print(\"predicted values : \")\n",
    "# print(out, end=\"\\n\")\n",
    "# print(\"true values : \")\n",
    "# print(y_test[0:20])\n"
   ]
  },
  {
   "cell_type": "markdown",
   "id": "4b63970c",
   "metadata": {},
   "source": [
    "## Actual vs. Predicted "
   ]
  },
  {
   "cell_type": "code",
   "execution_count": 35,
   "id": "1b9e7b4d",
   "metadata": {},
   "outputs": [
    {
     "name": "stdout",
     "output_type": "stream",
     "text": [
      "results: [7, 2, 1, 0, 4, 1, 4, 9, 2, 9, 0, 2, 9, 0, 1, 5, 9, 7, 4, 4, 9, 6, 2, 5, 4, 0, 7, 4, 0, 1]\n",
      "y-test:  [7, 2, 1, 0, 4, 1, 4, 9, 5, 9, 0, 6, 9, 0, 1, 5, 9, 7, 3, 4, 9, 6, 6, 5, 4, 0, 7, 4, 0, 1]\n"
     ]
    }
   ],
   "source": [
    "res=[]\n",
    "for i in range(30):\n",
    "    maxi=max(out[i][0])\n",
    "    dx=list(out[i][0]).index(maxi)\n",
    "    res.append(dx)\n",
    "\n",
    "\n",
    "print(\"results:\" ,res)\n",
    "print(\"y-test: \",list(np.argmax(y_test[0:30],axis=1)))\n"
   ]
  },
  {
   "cell_type": "markdown",
   "id": "da4858ff",
   "metadata": {},
   "source": [
    "## Plot Actual vs. Predicted "
   ]
  },
  {
   "cell_type": "code",
   "execution_count": 36,
   "id": "87e16667",
   "metadata": {},
   "outputs": [
    {
     "data": {
      "image/png": "[encoded data removed]",
      "text/plain": [
       "<Figure size 1440x288 with 30 Axes>"
      ]
     },
     "metadata": {
      "needs_background": "light"
     },
     "output_type": "display_data"
    }
   ],
   "source": [
    "#plot predicted vs test\n",
    "fig, axes = pyplot.subplots(ncols=len(res), sharex=False,\n",
    "                         sharey=True, figsize=(20, 4))\n",
    "for i in range(len(res)):\n",
    "    axes[i].set_title(res[i],fontsize=12)\n",
    "    axes[i].imshow(x_test[i], cmap='gray')\n",
    "    axes[i].get_xaxis().set_visible(False)\n",
    "    axes[i].get_yaxis().set_visible(False)\n",
    "pyplot.show()\n"
   ]
  },
  {
   "cell_type": "code",
   "execution_count": null,
   "id": "5c147252",
   "metadata": {},
   "outputs": [],
   "source": []
  }
 ],
 "metadata": {
  "kernelspec": {
   "display_name": "Python 3",
   "language": "python",
   "name": "python3"
  },
  "language_info": {
   "codemirror_mode": {
    "name": "ipython",
    "version": 3
   },
   "file_extension": ".py",
   "mimetype": "text/x-python",
   "name": "python",
   "nbconvert_exporter": "python",
   "pygments_lexer": "ipython3",
   "version": "3.8.8"
  }
 },
 "nbformat": 4,
 "nbformat_minor": 5
}
